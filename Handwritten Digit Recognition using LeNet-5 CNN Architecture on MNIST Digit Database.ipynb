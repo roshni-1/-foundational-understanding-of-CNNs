{
 "cells": [
  {
   "cell_type": "markdown",
   "id": "4e94bf53-a235-45f9-aa30-3aab7ec9bb24",
   "metadata": {},
   "source": [
    "# Handwritten Digit Recognition using LeNet-5 CNN Architecture on MNIST Digit Database\n",
    "\n",
    "\n",
    "\n",
    "## Objective\n",
    "\n",
    "The objective of a handwritten digit recognition project using the LeNet-5 CNN architecture on the MNIST dataset is to develop and evaluate a machine learning model that can accurately classify images of handwritten digits (0-9). Here are the key objectives and goals for such a project:\n",
    "\n",
    "1. **Develop a CNN Model**: Implement the LeNet-5 convolutional neural network architecture to process and classify images of handwritten digits.\n",
    "\n",
    "2. **Achieve High Accuracy**: Train the model to achieve high classification accuracy on the MNIST test dataset, which is crucial for validating the model's performance and reliability.\n",
    "\n",
    "3. **Understand and Utilize CNN Layers**: Gain insights into how different layers of a CNN (convolutional layers, pooling layers, and fully connected layers) contribute to the feature extraction and classification processes.\n",
    "\n",
    "4. **Evaluate Model Performance**: Assess the performance of the LeNet-5 model using metrics such as accuracy, precision, recall, and F1-score. This involves testing the model on unseen data and analyzing its classification results.\n",
    "\n",
    "5. **Compare with Other Models**: Optionally, compare the performance of the LeNet-5 model with other modern CNN architectures or machine learning models to evaluate its effectiveness relative to more recent approaches.\n",
    "\n",
    "6. **Gain Practical Experience**: Obtain hands-on experience with deep learning frameworks (e.g., TensorFlow, Keras, PyTorch) and gain practical skills in data preprocessing, model training, and performance evaluation.\n",
    "\n",
    "7. **Demonstrate Model Usability**: Show that the LeNet-5 model can be effectively used for digit recognition tasks, which can be applied to various real-world applications such as automated form processing, check reading, and more.\n",
    "\n",
    "By achieving these objectives, you’ll be able to demonstrate both your technical skills in implementing CNN architectures and your understanding of image classification tasks.\n",
    "\n",
    "\n",
    "\n",
    "## MNIST Dataset\n",
    "\n",
    "**Description:** The MNIST dataset (Modified National Institute of Standards and Technology) is a classic benchmark dataset in the field of machine learning and computer vision. It consists of grayscale images of handwritten digits.\n",
    "\n",
    "Content:\n",
    "\n",
    "- **Training Set:** 60,000 images of handwritten digits.\n",
    "- **Test Set:** 10,000 images of handwritten digits.\n",
    "- Image Size: Each image is 28x28 pixels.\n",
    "\n",
    "- **Labels:** Each image is labeled with the digit it represents (0 through 9).\n",
    "\n",
    "- **Format:** The dataset is provided in a simple format with images and their corresponding labels, making it easy to load and preprocess."
   ]
  },
  {
   "cell_type": "code",
   "execution_count": 2,
   "id": "a5a5b5f2-5432-4756-ba40-3f92e8c836fd",
   "metadata": {
    "tags": []
   },
   "outputs": [
    {
     "name": "stdout",
     "output_type": "stream",
     "text": [
      "WARNING:tensorflow:From C:\\Users\\irosh\\anaconda3\\Lib\\site-packages\\keras\\src\\losses.py:2976: The name tf.losses.sparse_softmax_cross_entropy is deprecated. Please use tf.compat.v1.losses.sparse_softmax_cross_entropy instead.\n",
      "\n"
     ]
    }
   ],
   "source": [
    "# Loading the libraries \n",
    "import tensorflow as tf\n",
    "from tensorflow.keras import layers, models\n",
    "from tensorflow.keras.datasets import mnist   # Loading the MNIST Dataset\n",
    "import numpy as np\n",
    "import matplotlib.pyplot as plt\n"
   ]
  },
  {
   "cell_type": "code",
   "execution_count": 4,
   "id": "f1b8a411-61de-41fb-a1c7-e447f3983810",
   "metadata": {
    "tags": []
   },
   "outputs": [],
   "source": [
    "# Load the dataset\n",
    "(x_train, y_train), (x_test, y_test) = mnist.load_data()\n"
   ]
  },
  {
   "cell_type": "code",
   "execution_count": 26,
   "id": "86336bb3-bc02-4060-a754-9528c81f3598",
   "metadata": {
    "tags": []
   },
   "outputs": [],
   "source": [
    "# Preprocess the Data: Normalize the pixel values and reshape the images.\n",
    "\n",
    "x_train = x_train.reshape(-1, 28, 28, 1).astype('float32') / 255\n",
    "x_test = x_test.reshape(-1, 28, 28, 1).astype('float32') / 255\n"
   ]
  },
  {
   "cell_type": "markdown",
   "id": "f87608e4-41eb-4267-984d-251d4d19bf5a",
   "metadata": {},
   "source": [
    "# LeNet- 5 Model\n",
    "\n",
    "LeNet-5 is a pioneering convolutional neural network (CNN) architecture designed for handwritten digit recognition. It was one of the first CNN architectures to show how deep learning could be used effectively for image classification.\n",
    "\n",
    "### LeNet-5 Architecture Overview\n",
    "\n",
    "Here's a breakdown of the LeNet-5 architecture:\n",
    "\n",
    "**Input Layer:**\n",
    "\n",
    "- Size: 28x28 pixels (grayscale images)\n",
    "- Channels: 1 (single channel for grayscale)\n",
    "- Convolutional Layer 1 (C1):\n",
    "\n",
    "**Number of Filters: 6**\n",
    "\n",
    "- Filter Size: 5x5\n",
    "- Activation Function: ReLU (originally Sigmoid)\n",
    "- Output Size: 24x24x6 (24x24 spatial dimensions, 6 feature maps)\n",
    "\n",
    "**Subsampling Layer 1 (S2):**\n",
    "\n",
    "- Operation: Average Pooling (2x2)**\n",
    "- Output Size: 12x12x6 (reduces spatial dimensions by a factor of 2)\n",
    "\n",
    "**Convolutional Layer 2 (C3):**\n",
    "\n",
    "- Number of Filters: 16\n",
    "- Filter Size: 5x5\n",
    "- Activation Function: ReLU (originally Sigmoid)\n",
    "- Output Size: 8x8x16\n",
    "\n",
    "**Subsampling Layer 2 (S4):**\n",
    "\n",
    "- Operation: Average Pooling (2x2)\n",
    "- Output Size: 4x4x16\n",
    "\n",
    "**Fully Connected Layer 1 (C5):**\n",
    "\n",
    "- Number of Neurons: 120\n",
    "- Activation Function: ReLU (originally Sigmoid)\n",
    "- Output Size: 120\n",
    "\n",
    "**Fully Connected Layer 2 (F6):**\n",
    "\n",
    "- Number of Neurons: 84\n",
    "- Activation Function: ReLU (originally Sigmoid)\n",
    "- Output Size: 84\n",
    "\n",
    "**Output Layer:**\n",
    "\n",
    "- Number of Neurons: 10 (one for each digit class)\n",
    "- Activation Function: Softmax (to produce probabilities for each class)\n",
    "\n",
    "**Key Features**\n",
    "\n",
    "- **Convolutional Layers:** Extract features from the input image using different filters. Each filter captures different aspects of the image, such as edges or textures.\n",
    "\n",
    "- **Pooling Layers:** Reduce the spatial dimensions of the feature maps, which helps to decrease computational complexity and control overfitting by providing a form of translation invariance.\n",
    "\n",
    "- **Fully Connected Layers:** After feature extraction, the high-level features are fed into fully connected layers to classify the image into one of the 10 digit classes."
   ]
  },
  {
   "cell_type": "code",
   "execution_count": 8,
   "id": "f1ec3629-2487-4138-9734-2e0af20b76f1",
   "metadata": {
    "tags": []
   },
   "outputs": [
    {
     "name": "stdout",
     "output_type": "stream",
     "text": [
      "WARNING:tensorflow:From C:\\Users\\irosh\\anaconda3\\Lib\\site-packages\\keras\\src\\backend.py:873: The name tf.get_default_graph is deprecated. Please use tf.compat.v1.get_default_graph instead.\n",
      "\n"
     ]
    }
   ],
   "source": [
    "# Build the LeNet-5 Model\n",
    "\n",
    "model = models.Sequential([\n",
    "    layers.Conv2D(6, (5, 5), activation='relu', input_shape=(28, 28, 1)),\n",
    "    layers.AveragePooling2D((2, 2)),\n",
    "    layers.Conv2D(16, (5, 5), activation='relu'),\n",
    "    layers.AveragePooling2D((2, 2)),\n",
    "    layers.Flatten(),\n",
    "    layers.Dense(120, activation='relu'),\n",
    "    layers.Dense(84, activation='relu'),\n",
    "    layers.Dense(10, activation='softmax')\n",
    "])\n"
   ]
  },
  {
   "cell_type": "code",
   "execution_count": 10,
   "id": "96d56511-872d-4ca4-a193-1dabcfa8f167",
   "metadata": {
    "tags": []
   },
   "outputs": [
    {
     "name": "stdout",
     "output_type": "stream",
     "text": [
      "WARNING:tensorflow:From C:\\Users\\irosh\\anaconda3\\Lib\\site-packages\\keras\\src\\optimizers\\__init__.py:309: The name tf.train.Optimizer is deprecated. Please use tf.compat.v1.train.Optimizer instead.\n",
      "\n"
     ]
    }
   ],
   "source": [
    "# Compile the model \n",
    "\n",
    "model.compile(optimizer='adam',\n",
    "              loss='sparse_categorical_crossentropy',\n",
    "              metrics=['accuracy'])\n"
   ]
  },
  {
   "cell_type": "code",
   "execution_count": 12,
   "id": "cf2abd3f-6174-4087-8eb0-611b911d3004",
   "metadata": {
    "tags": []
   },
   "outputs": [
    {
     "name": "stdout",
     "output_type": "stream",
     "text": [
      "Epoch 1/5\n",
      "WARNING:tensorflow:From C:\\Users\\irosh\\anaconda3\\Lib\\site-packages\\keras\\src\\utils\\tf_utils.py:492: The name tf.ragged.RaggedTensorValue is deprecated. Please use tf.compat.v1.ragged.RaggedTensorValue instead.\n",
      "\n",
      "WARNING:tensorflow:From C:\\Users\\irosh\\anaconda3\\Lib\\site-packages\\keras\\src\\engine\\base_layer_utils.py:384: The name tf.executing_eagerly_outside_functions is deprecated. Please use tf.compat.v1.executing_eagerly_outside_functions instead.\n",
      "\n",
      "844/844 [==============================] - 12s 11ms/step - loss: 0.2963 - accuracy: 0.9103 - val_loss: 0.0968 - val_accuracy: 0.9720\n",
      "Epoch 2/5\n",
      "844/844 [==============================] - 8s 9ms/step - loss: 0.0855 - accuracy: 0.9746 - val_loss: 0.0651 - val_accuracy: 0.9803\n",
      "Epoch 3/5\n",
      "844/844 [==============================] - 8s 10ms/step - loss: 0.0619 - accuracy: 0.9811 - val_loss: 0.0615 - val_accuracy: 0.9828\n",
      "Epoch 4/5\n",
      "844/844 [==============================] - 8s 9ms/step - loss: 0.0502 - accuracy: 0.9846 - val_loss: 0.0522 - val_accuracy: 0.9842\n",
      "Epoch 5/5\n",
      "844/844 [==============================] - 9s 10ms/step - loss: 0.0419 - accuracy: 0.9866 - val_loss: 0.0543 - val_accuracy: 0.9843\n"
     ]
    }
   ],
   "source": [
    "# Train the model \n",
    "\n",
    "history = model.fit(x_train, y_train, epochs=5, batch_size=64, validation_split=0.1)\n"
   ]
  },
  {
   "cell_type": "code",
   "execution_count": 14,
   "id": "6c76cdde-862b-4107-9946-0a97a874ad39",
   "metadata": {
    "tags": []
   },
   "outputs": [
    {
     "data": {
      "image/png": "[encoded data removed]",
      "text/plain": [
       "<Figure size 640x480 with 1 Axes>"
      ]
     },
     "metadata": {},
     "output_type": "display_data"
    }
   ],
   "source": [
    "# Plot Training History\n",
    "\n",
    "plt.plot(history.history['accuracy'], label='accuracy')\n",
    "plt.plot(history.history['val_accuracy'], label = 'val_accuracy')\n",
    "plt.xlabel('Epoch')\n",
    "plt.ylabel('Accuracy')\n",
    "plt.ylim([0, 1])\n",
    "plt.legend(loc='lower right')\n",
    "plt.show()\n"
   ]
  },
  {
   "cell_type": "code",
   "execution_count": 16,
   "id": "5b818375-ab51-4343-ab70-c07cf901c4ff",
   "metadata": {
    "tags": []
   },
   "outputs": [
    {
     "name": "stdout",
     "output_type": "stream",
     "text": [
      "313/313 [==============================] - 1s 4ms/step - loss: 0.0438 - accuracy: 0.9865\n",
      "Test accuracy: 0.9865000247955322\n"
     ]
    }
   ],
   "source": [
    "# Evaluate the model on test data\n",
    "\n",
    "test_loss, test_acc = model.evaluate(x_test, y_test)\n",
    "print(f'Test accuracy: {test_acc}')\n"
   ]
  },
  {
   "cell_type": "code",
   "execution_count": 18,
   "id": "3ab9a627-3464-40ee-bed3-85e6a9bcec22",
   "metadata": {
    "tags": []
   },
   "outputs": [
    {
     "name": "stdout",
     "output_type": "stream",
     "text": [
      "313/313 [==============================] - 2s 4ms/step\n"
     ]
    }
   ],
   "source": [
    "# Make predictions \n",
    "\n",
    "predictions = model.predict(x_test)\n"
   ]
  },
  {
   "cell_type": "code",
   "execution_count": 20,
   "id": "b191c744-3c83-422e-88b6-7be80ca378da",
   "metadata": {
    "tags": []
   },
   "outputs": [
    {
     "data": {
      "image/png": "[encoded data removed]",
      "text/plain": [
       "<Figure size 1000x500 with 5 Axes>"
      ]
     },
     "metadata": {},
     "output_type": "display_data"
    }
   ],
   "source": [
    "def plot_predictions(images, labels, predictions, num=5):\n",
    "    plt.figure(figsize=(10, 5))\n",
    "    for i in range(num):\n",
    "        plt.subplot(1, num, i+1)\n",
    "        plt.imshow(images[i].reshape(28, 28), cmap='gray')\n",
    "        plt.title(f'Pred: {np.argmax(predictions[i])}\\nTrue: {labels[i]}')\n",
    "        plt.axis('off')\n",
    "    plt.show()\n",
    "\n",
    "plot_predictions(x_test, y_test, predictions)\n"
   ]
  },
  {
   "cell_type": "code",
   "execution_count": null,
   "id": "348876c1-9fa3-4847-9436-0640d3517a85",
   "metadata": {},
   "outputs": [],
   "source": []
  }
 ],
 "metadata": {
  "kernelspec": {
   "display_name": "Python 3 (ipykernel)",
   "language": "python",
   "name": "python3"
  },
  "language_info": {
   "codemirror_mode": {
    "name": "ipython",
    "version": 3
   },
   "file_extension": ".py",
   "mimetype": "text/x-python",
   "name": "python",
   "nbconvert_exporter": "python",
   "pygments_lexer": "ipython3",
   "version": "3.11.5"
  }
 },
 "nbformat": 4,
 "nbformat_minor": 5
}
